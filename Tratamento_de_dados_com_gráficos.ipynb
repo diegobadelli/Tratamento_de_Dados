{
 "cells": [
  {
   "cell_type": "markdown",
   "metadata": {},
   "source": [
    "# Relatório Estatístico\n",
    "#### Autor: Diego do Carmo Badelli"
   ]
  },
  {
   "cell_type": "code",
   "execution_count": null,
   "metadata": {},
   "outputs": [],
   "source": [
    "import pandas as pd\n",
    "from tkinter import Tk\n",
    "from tkinter.filedialog import askopenfilename, asksaveasfilename\n",
    "import matplotlib.pyplot as plt\n",
    "from scipy.stats import norm\n",
    "import numpy as np\n",
    "from datetime import date"
   ]
  },
  {
   "cell_type": "code",
   "execution_count": null,
   "metadata": {},
   "outputs": [],
   "source": [
    "d1 = str(date.today().strftime(\"%d/%m/%Y\"))\n",
    "print(\"Data: {}\".format(d1))"
   ]
  },
  {
   "cell_type": "code",
   "execution_count": null,
   "metadata": {},
   "outputs": [],
   "source": [
    "Tk().withdraw() # we don't want a full GUI, so keep the root window from appearing\n",
    "planilha = askopenfilename(initialdir = \"/\", title = \"Selecione a planilha\") # show an \"Open\" dialog box and return the path to the selected file"
   ]
  },
  {
   "cell_type": "code",
   "execution_count": null,
   "metadata": {},
   "outputs": [],
   "source": [
    "#Leitura dos dados\n",
    "dados = pd.DataFrame(pd.read_excel(planilha))"
   ]
  },
  {
   "cell_type": "markdown",
   "metadata": {},
   "source": [
    "## Boxplots e Histogramas"
   ]
  },
  {
   "cell_type": "code",
   "execution_count": null,
   "metadata": {},
   "outputs": [],
   "source": [
    "def Parametro(nome, atributo):\n",
    "    nome = dados.loc[:, dados.columns.str.startswith(atributo)]\n",
    "    dados_limpos = nome.dropna()\n",
    "    return dados_limpos"
   ]
  },
  {
   "cell_type": "code",
   "execution_count": null,
   "metadata": {},
   "outputs": [],
   "source": [
    "IL = Parametro ('IL', \"Att\")\n",
    "RL = Parametro ('RL', 'RL')\n",
    "NEXT = Parametro ('NEXT', 'NEXT')\n",
    "ELFEXT = Parametro ('ELFEXT', 'ACRF')"
   ]
  },
  {
   "cell_type": "code",
   "execution_count": null,
   "metadata": {},
   "outputs": [],
   "source": [
    "boxplot_Il = IL.boxplot()"
   ]
  },
  {
   "cell_type": "code",
   "execution_count": null,
   "metadata": {},
   "outputs": [],
   "source": [
    "boxplot_RL = RL.boxplot()"
   ]
  },
  {
   "cell_type": "code",
   "execution_count": null,
   "metadata": {},
   "outputs": [],
   "source": [
    "boxplot_NEXT = NEXT.boxplot()"
   ]
  },
  {
   "cell_type": "code",
   "execution_count": null,
   "metadata": {},
   "outputs": [],
   "source": [
    "boxplot_ELFEXT = ELFEXT.boxplot()"
   ]
  },
  {
   "cell_type": "code",
   "execution_count": null,
   "metadata": {},
   "outputs": [],
   "source": [
    "# Generate some data for this demonstration\n",
    "def Histonorm(data):\n",
    "    dados = data\n",
    "    for i in data:\n",
    "        # Fit a normal distribution to the data:\n",
    "        mu, std = norm.fit(i)\n",
    "\n",
    "        # Plot the histogram.\n",
    "        plt.hist(i, bins=25, density=True, alpha=0.6, color='g')\n",
    "\n",
    "        # Plot the PDF.\n",
    "        xmin, xmax = plt.xlim()\n",
    "        x = np.linspace(xmin, xmax, 100)\n",
    "        p = norm.pdf(x, mu, std)\n",
    "        plt.plot(x, p, 'k', linewidth=2)\n",
    "        title = \"%s /n Média = %.2f,  Desvio Padrão = %.2f\" % (str(i), mu, std)\n",
    "        plt.title(title)\n",
    "        plt.grid(True)\n",
    "        plt.show()"
   ]
  },
  {
   "cell_type": "code",
   "execution_count": null,
   "metadata": {},
   "outputs": [],
   "source": [
    "Histonorm([IL['Att 1'], IL['Att 2'], IL['Att 3'], IL['Att 4']])"
   ]
  },
  {
   "cell_type": "code",
   "execution_count": null,
   "metadata": {},
   "outputs": [],
   "source": [
    "Histonorm([RL['RL 1'],RL['RL 2'],RL['RL 3'],RL['RL 4']])"
   ]
  },
  {
   "cell_type": "code",
   "execution_count": null,
   "metadata": {},
   "outputs": [],
   "source": [
    "# Generate some data for this demonstration\n",
    "Histonorm([NEXT['NEXT 1x2'], NEXT['NEXT 1x3'], NEXT['NEXT 1x4'], NEXT['NEXT 2x3'], NEXT['NEXT 2x4'], NEXT['NEXT 3x4']])\n"
   ]
  },
  {
   "cell_type": "code",
   "execution_count": null,
   "metadata": {},
   "outputs": [],
   "source": [
    "# Generate some data for this demonstration\n",
    "Histonorm([ELFEXT['ACRF 1x2'], ELFEXT['ACRF 1x3'], ELFEXT['ACRF 1x4'], ELFEXT['ACRF 2x3'], ELFEXT['ACRF 2x4'], ELFEXT['ACRF 3x4']])\n"
   ]
  }
 ],
 "metadata": {
  "kernelspec": {
   "display_name": "Python 3 (ipykernel)",
   "language": "python",
   "name": "python3"
  },
  "language_info": {
   "codemirror_mode": {
    "name": "ipython",
    "version": 3
   },
   "file_extension": ".py",
   "mimetype": "text/x-python",
   "name": "python",
   "nbconvert_exporter": "python",
   "pygments_lexer": "ipython3",
   "version": "3.10.4"
  }
 },
 "nbformat": 4,
 "nbformat_minor": 4
}
